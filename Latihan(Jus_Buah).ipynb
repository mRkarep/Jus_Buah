{
  "nbformat": 4,
  "nbformat_minor": 0,
  "metadata": {
    "colab": {
      "provenance": [],
      "authorship_tag": "ABX9TyNGzvyYP4AnH4gMkAAPQiLd",
      "include_colab_link": true
    },
    "kernelspec": {
      "name": "python3",
      "display_name": "Python 3"
    },
    "language_info": {
      "name": "python"
    }
  },
  "cells": [
    {
      "cell_type": "markdown",
      "metadata": {
        "id": "view-in-github",
        "colab_type": "text"
      },
      "source": [
        "<a href=\"https://colab.research.google.com/github/mRkarep/Jus_Buah/blob/main/Latihan(Jus_Buah).ipynb\" target=\"_parent\"><img src=\"https://colab.research.google.com/assets/colab-badge.svg\" alt=\"Open In Colab\"/></a>"
      ]
    },
    {
      "cell_type": "code",
      "source": [
        "# Program Hitung Warung Jus Buah\n",
        "# Nama: Muhammad Faiz Mubin\n",
        "# Prodi: S1 Informatika\n",
        "\n",
        "print(\"Jus Manis Segar\")\n",
        "print(\"Daftar Menu\")\n",
        "print(\"1. Apel    : Rp5000\")\n",
        "print(\"2. mangga  : Rp6000\")\n",
        "print(\"3. Stroberi: Rp4000\\n\")\n",
        "Jual = \"\"\n",
        "Diskon = 0\n",
        "Apel = 5000\n",
        "Mangga = 6000\n",
        "Stroberi = 4000\n",
        "Harga = 0\n",
        "\n",
        "Lagi = \"ya\"\n",
        "print(\"\\n\")\n",
        "\n",
        "while Lagi == \"ya\":\n",
        " Beli = str(input(\"Silahkan pilih jus Anda: \").lower())\n",
        " Jumlah = int(input(\"Jumlah gelas: \"))\n",
        "\n",
        " if Beli == \"apel\":\n",
        "  Jual = Apel * Jumlah\n",
        "  if Jumlah > 3:\n",
        "   print(\"Selamat, anda mendapatkan Diskon 10%!\")\n",
        "   Diskon = Jual * (10/100)\n",
        "   Jual = Jual - Diskon\n",
        "  print(f\"Anda memesan {Jumlah} gelas jus {Beli}\")\n",
        "  print(f\"Harga jus: Rp{Jual}\")\n",
        "  Lagi = input(\"\\nPesan lagi?(ya/tidak):\")\n",
        "  print(\"\\n\")\n",
        "  Harga += Jual\n",
        "\n",
        " elif Beli == \"mangga\":\n",
        "  Jual = Mangga * Jumlah\n",
        "  if Jumlah > 3:\n",
        "   print(\"Selamat, anda mendapatkan Diskon 10%!\")\n",
        "   Diskon = Jual * (10/100)\n",
        "   Jual = Jual - Diskon\n",
        "  print(f\"Anda memesan {Jumlah} gelas jus {Beli}\")\n",
        "  print(f\"Harga jus: Rp{Jual}\")\n",
        "  Lagi = input(\"\\nPesan lagi?(ya/tidak):\")\n",
        "  print(\"\\n\")\n",
        "  Harga += Jual\n",
        "\n",
        " elif Beli == \"stroberi\":\n",
        "  Jual = Stroberi * Jumlah\n",
        "  if Jumlah > 3:\n",
        "   print(\"Selamat, anda mendapatkan Diskon 10%!\")\n",
        "   Diskon = Jual * (10/100)\n",
        "   Jual = Jual - Diskon\n",
        "  print(f\"Anda memesan {Jumlah} gelas jus {Beli}\")\n",
        "  print(f\"Harga jus: Rp{Jual}\")\n",
        "  Lagi = input(\"\\nPesan lagi?(ya/tidak):\")\n",
        "  print(\"\\n\")\n",
        "  Harga += Jual\n",
        "\n",
        " else:\n",
        "   print(\"Pesanan anda tidak tersedia\")\n",
        "\n",
        "print(\"Struk Pemesanan\")\n",
        "print(f\"Total yang harus dibayar adalah: Rp{Harga}\")\n",
        "print(\"Selamat Menikmati\")"
      ],
      "metadata": {
        "colab": {
          "base_uri": "https://localhost:8080/"
        },
        "id": "j3Ixj2LNqAZV",
        "outputId": "a29d7e34-5b4a-422c-b39c-24afaf673675"
      },
      "execution_count": 1,
      "outputs": [
        {
          "output_type": "stream",
          "name": "stdout",
          "text": [
            "Jus Manis Segar\n",
            "Daftar Menu\n",
            "1. Apel    : Rp5000\n",
            "2. mangga  : Rp6000\n",
            "3. Stroberi: Rp4000\n",
            "\n",
            "\n",
            "\n",
            "Silahkan pilih jus Anda: apel\n",
            "Jumlah gelas: 7\n",
            "Selamat, anda mendapatkan Diskon 10%!\n",
            "Anda memesan 7 gelas jus apel\n",
            "Harga jus: Rp31500.0\n",
            "\n",
            "Pesan lagi?(ya/tidak):tidak\n",
            "\n",
            "\n",
            "Struk Pemesanan\n",
            "Total yang harus dibayar adalah: Rp31500.0\n",
            "Selamat Menikmati\n"
          ]
        }
      ]
    },
    {
      "cell_type": "code",
      "source": [
        "# Program Cek Kedewasaan\n",
        "# Nama: Muhammad Faiz Mubin\n",
        "# Prodi: S1 Informatika\n",
        "\n",
        "usia = int(input(\"Usia anda: \"))\n",
        "ktp = str(input(\"Apakah anda memiliki KTP?(ya/tidak) \"))\n",
        "if usia >= 17 and ktp == \"ya\":\n",
        "  print(\"Anda sudah dewasa\")\n",
        "else:\n",
        "  print(\"Anda belum dewasa\")"
      ],
      "metadata": {
        "colab": {
          "base_uri": "https://localhost:8080/"
        },
        "id": "bxj-Gjby1cb8",
        "outputId": "b0f2129b-7f43-4f34-8c5b-49226d43e3b5"
      },
      "execution_count": null,
      "outputs": [
        {
          "output_type": "stream",
          "name": "stdout",
          "text": [
            "Usia anda: 15\n",
            "Apakah anda memiliki KTP?(ya/tidak) tidak\n",
            "Anda belum dewasa\n"
          ]
        }
      ]
    },
    {
      "cell_type": "code",
      "source": [
        "# Program Menjumlahkan dua bilangan\n",
        "# Nama: Muhammad Faiz Mubin\n",
        "# Prodi: S1 Informatika\n",
        "\n",
        "nilai1 = int(input(\"Nilai 1:\"))\n",
        "nilai2 = int(input(\"Niali 2:\"))\n",
        "hasil = nilai1 + nilai2\n",
        "print(f\"Hasil Penjumlahan: {hasil}\")"
      ],
      "metadata": {
        "colab": {
          "base_uri": "https://localhost:8080/"
        },
        "id": "ohCQmnKB3rC6",
        "outputId": "b7c482e2-9c44-4741-cb9a-f975dc919770"
      },
      "execution_count": null,
      "outputs": [
        {
          "output_type": "stream",
          "name": "stdout",
          "text": [
            "Nilai 1:3\n",
            "Niali 2:7\n",
            "Hasil Penjumlahan: 10\n"
          ]
        }
      ]
    }
  ]
}